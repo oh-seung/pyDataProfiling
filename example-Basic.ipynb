{
 "cells": [
  {
   "cell_type": "markdown",
   "id": "d0da33e5",
   "metadata": {},
   "source": [
    "# 패키지 설명\n",
    "- DictCollector(DictionaryCollect) : 프로파일링 대상 DB에 접속하여 스키마 정보 수집 관련 메소드\n",
    "- SQLCreator(SQLCreate) : 수집된 스키마 정보를 기반으로 프로파일링 SQL을 생성하는 메소드\n",
    "- Executer(ProfilingExecute) : 프로파일링 SQL 수행시키고, 프로파일링 결과를 수집하는 메소드"
   ]
  },
  {
   "cell_type": "markdown",
   "id": "ceb0581e",
   "metadata": {},
   "source": [
    "### 1. 패키지 임포트 및 선언"
   ]
  },
  {
   "cell_type": "code",
   "execution_count": null,
   "id": "e60d70c3",
   "metadata": {},
   "outputs": [],
   "source": [
    "import pyDataProfiling\n",
    "DataProfiler = pyDataProfiling.DataProfiling()"
   ]
  },
  {
   "cell_type": "markdown",
   "id": "5ef027c3",
   "metadata": {},
   "source": [
    "### 2. 리포지터리DB 지정 및 접속\n",
    "1) 리포지터리DB : 프로파일링 수행 결과와 SQL, 서버정보, 스키마정보(테이블, 컬럼) 등을 관리함 <br>\n",
    "2) 리포지터리DB 테이블 정보는 별도의 데이터모델 파일 참조 <br>"
   ]
  },
  {
   "cell_type": "code",
   "execution_count": null,
   "id": "6ee4cd22",
   "metadata": {},
   "outputs": [],
   "source": [
    "### 리포지터리DB 지정\n",
    "DataProfiler.RepositoryDBSetting(dbtype='Tibero', ip='127.0.0.1', port=1521, dbname='trcl', userid='user', password='password')"
   ]
  },
  {
   "cell_type": "code",
   "execution_count": null,
   "id": "ab5b34cb",
   "metadata": {
    "scrolled": false
   },
   "outputs": [],
   "source": [
    "### 리포지터리DB 접속\n",
    "DataProfiler.RepositoryDBConnect()"
   ]
  },
  {
   "cell_type": "markdown",
   "id": "0c62dd5a",
   "metadata": {},
   "source": [
    "### 3. 프로파일링 대상 DB 정의 및 접속\n",
    "1) 프로파일링을 수행할 데이터베이스를 정의할 수 있다.  \n",
    "2) 셋팅 : 프로파일링 대상DB를 하나씩 지정이 가능하며, DB번호 기준으로 리포지터리DB에 Overwrite 된다.  \n",
    "3) 로드 : 리포지터리DB에 저장된 DB정보를 일괄 호출한다.  \n",
    "4) 접속 : 지정된 프로파일링 대상 DB에 접속을 시도한다."
   ]
  },
  {
   "cell_type": "code",
   "execution_count": null,
   "id": "4c6e9710",
   "metadata": {
    "scrolled": true
   },
   "outputs": [],
   "source": [
    "### 셋팅\n",
    "DataProfiler.ProfilingDBSetting(DB번호=99, DB명='테스트', dbtype='Tibero', ip='127.0.0.1', port=1521, dbname='trcl', userid='user', password='password')"
   ]
  },
  {
   "cell_type": "code",
   "execution_count": null,
   "id": "0cdf47b4",
   "metadata": {},
   "outputs": [],
   "source": [
    "### 로드\n",
    "DataProfiler.ProfilingDBLoad()"
   ]
  },
  {
   "cell_type": "code",
   "execution_count": null,
   "id": "1eba2135",
   "metadata": {
    "scrolled": false
   },
   "outputs": [],
   "source": [
    "### 접속\n",
    "DataProfiler.ProfilingDBConnect(DB번호=99)"
   ]
  },
  {
   "cell_type": "markdown",
   "id": "1c979c9f",
   "metadata": {},
   "source": [
    "### 4. 스키마정보 수집 (수집 변수 설명)\n",
    "\n",
    "1) return_type : 스키마 정보 수집된 결과를 어떻게 리턴 받을지 정함 \n",
    " - Repository : 리포지터리DB에 바로 적재함, 적재되는 DB의 성능에 따라 느릴 수 있음\n",
    " - DataFrame : pandas DataFrame 형태로 리턴됨, 여러 DB를 최대한 한 시점으로 받고 싶을 경우 실행하여, dump형식으로 내릴때 유용함  \n",
    "   \n",
    "2) ignore : return_type이 'Repository' 일때만 사용하여, 이미 데이터가 존재할 경우 무시(※이전 데이터 삭제)할지를 정함\n",
    " - True : 이전 데이터 존재시 삭제(DB번호 기준)\n",
    " - False : 이전 데이터 존재시 오류 발생시킴"
   ]
  },
  {
   "cell_type": "code",
   "execution_count": null,
   "id": "9cf851eb",
   "metadata": {},
   "outputs": [],
   "source": [
    "DataProfiler.DictCollector.Collect(return_type='Repository', ignore=False)"
   ]
  },
  {
   "cell_type": "code",
   "execution_count": null,
   "id": "b7513b23",
   "metadata": {},
   "outputs": [],
   "source": [
    "DataProfiler.DictCollector.Collect(return_type='Repository', ignore=True)"
   ]
  },
  {
   "cell_type": "code",
   "execution_count": null,
   "id": "03ecf282",
   "metadata": {},
   "outputs": [],
   "source": [
    "data = DataProfiler.DictCollector.Collect(return_type='DataFrame')"
   ]
  },
  {
   "cell_type": "markdown",
   "id": "57cde1a5",
   "metadata": {},
   "source": [
    "### 5. SQL생성\n",
    "### 프로파일링을 수행할 SQL을 생성하며, 리포지터리DB에만 접속하여 사용 가능\n",
    "1) 딕셔너리 조회(DictionaryListSelect) : SQL을 생성할 DB번호를 지정하며, schemaList에 지정된 목록만 스키마를 생성함  \n",
    "2) ColumnProfingSQLCreate : 컬럼의 기초통계치를 수집  \n",
    "3) SampleProfingSQLCreate : 컬럼별로 샘플 데이터를 수집함 (최대 10건으로 고정)  \n",
    "4) ExecuteErrorSQLCreate : 오류가 발생한 SQL을 컬럼 하나씩 수집할 수 있도록 변경함\n",
    "\n",
    "- estimate : full 또는 sample로 지정  \n",
    "- rowcount : estimate가 sample일 경우, 수집하고자 하는 최대 건수 지정  \n",
    "- columncount : 한 SQL당 수집되는 컬럼 개수를 지정  "
   ]
  },
  {
   "cell_type": "code",
   "execution_count": null,
   "id": "724962a1",
   "metadata": {},
   "outputs": [],
   "source": [
    "### 딕셔너리 조회\n",
    "DataProfiler.SQLCreator.DictionaryListSelect(DB번호=99, schemaList=['DTWAREADM'])"
   ]
  },
  {
   "cell_type": "code",
   "execution_count": null,
   "id": "067017d5",
   "metadata": {},
   "outputs": [],
   "source": [
    "### 컬럼기초통계치 수집 SQL 생성\n",
    "DataProfiler.SQLCreator.ColumnProfingSQLCreate(estimate='sample', rowcount=100)"
   ]
  },
  {
   "cell_type": "code",
   "execution_count": null,
   "id": "14b7c170",
   "metadata": {},
   "outputs": [],
   "source": [
    "### 샘플데이터 수집 SQL 생성\n",
    "DataProfiler.SQLCreator.SampleProfingSQLCreate(estimate='sample', rowcount=100)"
   ]
  },
  {
   "cell_type": "code",
   "execution_count": null,
   "id": "3173bfb5",
   "metadata": {},
   "outputs": [],
   "source": [
    "### 오류 SQL에 대한 SQL 재생성\n",
    "DataProfiler.SQLCreator.ExecuteErrorSQLCreate(estimate='sample', rowcount=100)"
   ]
  },
  {
   "cell_type": "markdown",
   "id": "5ec64464",
   "metadata": {},
   "source": [
    "### 6. 프로파일링 SQL 수행\n",
    "- degree : 동시에 수행할 프로세스 개수 지정\n",
    "- duplicate : 리포지터리에 수집된 결과가 존재할 경우, 처리 방안 'merge'(지우고 입력), 'pass' (오류로 처리)\n",
    "- echo(※미개발) : row(행별 출력), progress(진행바)"
   ]
  },
  {
   "cell_type": "code",
   "execution_count": null,
   "id": "c62ff423",
   "metadata": {
    "scrolled": true
   },
   "outputs": [],
   "source": [
    "DataProfiler.Executer.execute(degree=4, duplicate='merge')"
   ]
  }
 ],
 "metadata": {
  "kernelspec": {
   "display_name": "Python 3 (ipykernel)",
   "language": "python",
   "name": "python3"
  },
  "language_info": {
   "codemirror_mode": {
    "name": "ipython",
    "version": 3
   },
   "file_extension": ".py",
   "mimetype": "text/x-python",
   "name": "python",
   "nbconvert_exporter": "python",
   "pygments_lexer": "ipython3",
   "version": "3.9.7"
  }
 },
 "nbformat": 4,
 "nbformat_minor": 5
}
