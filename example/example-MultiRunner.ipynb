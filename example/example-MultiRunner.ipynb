{
 "cells": [
  {
   "cell_type": "markdown",
   "id": "7daf04bd",
   "metadata": {},
   "source": [
    "## 동시에 여러 DB 수행시키기\n",
    "1. 동일 시점에 스키마정보를 수집해야 할때 (SchemaCollectMulti)\n",
    "2. SQL생성시 여러 DB를 동시에 Insert 시키고 싶을 때(※시간 단축됨) (SQLCreateMulti)\n",
    "3.여러 DB에 동시에 SQL을 수행시켜야 할때 (ExecuteMulti)"
   ]
  },
  {
   "cell_type": "code",
   "execution_count": 1,
   "id": "860bb26c",
   "metadata": {},
   "outputs": [],
   "source": [
    "from threading import Thread\n",
    "import pyDataProfiling"
   ]
  },
  {
   "cell_type": "markdown",
   "id": "c3efb6ea",
   "metadata": {},
   "source": [
    "### 1. 동일 시점에 스키마정보를 수집해야 할때 (SchemaCollectMulti)"
   ]
  },
  {
   "cell_type": "code",
   "execution_count": null,
   "id": "ed911754",
   "metadata": {},
   "outputs": [],
   "source": [
    "### 스레드에서 동시 처리할 수 있도록 별도 함수 생성\n",
    "def SchemaCollectMulti(DB번호):\n",
    "    DataProfiler = pyDataProfiling.DataProfiling()\n",
    "\n",
    "    ### 리포지터리DB 지정\n",
    "    DataProfiler.RepositoryDBSetting(dbtype='Tibero', ip='127.0.0.1', port=1521, dbname='trcl', userid='user', password='password')\n",
    "\n",
    "    ### 리포지터리DB 접속\n",
    "    DataProfiler.RepositoryDBConnect()\n",
    "\n",
    "    ### 프로파일링 대상 DB 스키마 정보 로드\n",
    "    DataProfiler.ProfilingDBLoad()\n",
    "    DataProfiler.ProfilingDBConnect(DB번호=DB번호)\n",
    "    \n",
    "    ### 스키마정보 수집\n",
    "    DataProfiler.DictCollector.Collect(return_type='Repository', ignore=True)"
   ]
  },
  {
   "cell_type": "code",
   "execution_count": null,
   "id": "c80675a7",
   "metadata": {},
   "outputs": [],
   "source": [
    "### 동시에 수행\n",
    "threads = []\n",
    "DB목록 = [1,2,3,4,5]\n",
    "for DB번호 in DB목록:\n",
    "    t = Thread(target=SchemaCollectMulti, args=(DB번호, ))\n",
    "    threads.append(t)\n",
    "    t.start()"
   ]
  },
  {
   "cell_type": "markdown",
   "id": "56ed7d00",
   "metadata": {},
   "source": [
    "### 2. SQL생성시 여러 DB를 동시에 Insert 시키고 싶을 때(※시간 단축됨) (SQLCreateMulti)"
   ]
  },
  {
   "cell_type": "code",
   "execution_count": null,
   "id": "1bdad5e5",
   "metadata": {},
   "outputs": [],
   "source": [
    "### 스레드에서 동시 처리할 수 있도록 별도 함수 생성\n",
    "def SQLCreateMulti(DB번호):\n",
    "    DataProfiler = pyDataProfiling.DataProfiling()\n",
    "\n",
    "    ### 리포지터리DB 지정\n",
    "    DataProfiler.RepositoryDBSetting(dbtype='Tibero', ip='127.0.0.1', port=1521, dbname='trcl', userid='user', password='password')\n",
    "\n",
    "    ### 리포지터리DB 접속\n",
    "    DataProfiler.RepositoryDBConnect()\n",
    "\n",
    "    ### 프로파일링 대상 DB 스키마 정보 로드\n",
    "    ### 딕셔너리 조회\n",
    "    DataProfiler.SQLCreator.DictionaryListSelect(DB번호=DB번호, schemaList=['DTWAREADM'])\n",
    "    \n",
    "    ### 컬럼기초통계치 수집 SQL 생성\n",
    "    DataProfiler.SQLCreator.ColumnProfingSQLCreate(estimate='sample', rowcount=100)\n",
    "    \n",
    "    ### 샘플데이터 수집 SQL 생성\n",
    "    DataProfiler.SQLCreator.SampleProfingSQLCreate(estimate='sample', rowcount=100)"
   ]
  },
  {
   "cell_type": "code",
   "execution_count": null,
   "id": "f6db9bdf",
   "metadata": {},
   "outputs": [],
   "source": [
    "### 동시에 수행\n",
    "threads = []\n",
    "DB목록 = [1,2,3,4,5]\n",
    "for DB번호 in DB목록:\n",
    "    t = Thread(target=SQLCreateMulti, args=(DB번호, ))\n",
    "    threads.append(t)\n",
    "    t.start()"
   ]
  },
  {
   "cell_type": "markdown",
   "id": "b89cdb0a",
   "metadata": {},
   "source": [
    "### 3.여러 DB에 동시에 SQL을 수행시켜야 할때 (ExecuteMulti)"
   ]
  },
  {
   "cell_type": "code",
   "execution_count": 2,
   "id": "7312d274",
   "metadata": {},
   "outputs": [],
   "source": [
    "### 스레드에서 동시 처리할 수 있도록 별도 함수 생성\n",
    "def ExecuteMulti(DB번호, degree):\n",
    "    DataProfiler = pyDataProfiling.DataProfiling()\n",
    "\n",
    "    ### 리포지터리DB 지정\n",
    "    DataProfiler.RepositoryDBSetting(dbtype='Tibero', ip='127.0.0.1', port=1521, dbname='trcl', userid='user', password='password')\n",
    "\n",
    "    ### 리포지터리DB 접속\n",
    "    DataProfiler.RepositoryDBConnect()\n",
    "\n",
    "    ### 로드\n",
    "    DataProfiler.ProfilingDBLoad()\n",
    "    \n",
    "    ### 접속\n",
    "    DataProfiler.ProfilingDBConnect(DB번호=DB번호)    \n",
    "    \n",
    "    DataProfiler.Executer.execute(degree=degree, duplicate='merge')"
   ]
  },
  {
   "cell_type": "code",
   "execution_count": null,
   "id": "1e86951b",
   "metadata": {},
   "outputs": [],
   "source": [
    "### 동시에 수행\n",
    "threads = []\n",
    "DB목록 = [[1, 1],[2,2],[3,1],[4, 2],[5, 1]]\n",
    " \n",
    "for DB번호, degree in DB목록:\n",
    "    t = Thread(target=ExecuteMulti, args=(DB번호, degree, ))\n",
    "    threads.append(t)\n",
    "    t.start()\n",
    "    \n",
    "for t in threads:\n",
    "    t.join()"
   ]
  }
 ],
 "metadata": {
  "kernelspec": {
   "display_name": "Python 3 (ipykernel)",
   "language": "python",
   "name": "python3"
  },
  "language_info": {
   "codemirror_mode": {
    "name": "ipython",
    "version": 3
   },
   "file_extension": ".py",
   "mimetype": "text/x-python",
   "name": "python",
   "nbconvert_exporter": "python",
   "pygments_lexer": "ipython3",
   "version": "3.9.7"
  }
 },
 "nbformat": 4,
 "nbformat_minor": 5
}
